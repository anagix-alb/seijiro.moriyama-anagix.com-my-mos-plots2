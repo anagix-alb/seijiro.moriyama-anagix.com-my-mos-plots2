{
 "cells": [
  {
   "cell_type": "code",
   "execution_count": 1,
   "metadata": {
    "collapsed": false
   },
   "outputs": [
    {
     "data": {
      "application/javascript": [
       "if(window['d3'] === undefined ||\n",
       "   window['Nyaplot'] === undefined){\n",
       "    var path = {\"d3\":\"https://cdnjs.cloudflare.com/ajax/libs/d3/3.5.5/d3.min\",\"downloadable\":\"http://cdn.rawgit.com/domitry/d3-downloadable/master/d3-downloadable\"};\n",
       "\n",
       "\n",
       "\n",
       "    var shim = {\"d3\":{\"exports\":\"d3\"},\"downloadable\":{\"exports\":\"downloadable\"}};\n",
       "\n",
       "    require.config({paths: path, shim:shim});\n",
       "\n",
       "\n",
       "require(['d3'], function(d3){window['d3']=d3;console.log('finished loading d3');require(['downloadable'], function(downloadable){window['downloadable']=downloadable;console.log('finished loading downloadable');\n",
       "\n",
       "\tvar script = d3.select(\"head\")\n",
       "\t    .append(\"script\")\n",
       "\t    .attr(\"src\", \"http://cdn.rawgit.com/domitry/Nyaplotjs/master/release/nyaplot.js\")\n",
       "\t    .attr(\"async\", true);\n",
       "\n",
       "\tscript[0][0].onload = script[0][0].onreadystatechange = function(){\n",
       "\n",
       "\n",
       "\t    var event = document.createEvent(\"HTMLEvents\");\n",
       "\t    event.initEvent(\"load_nyaplot\",false,false);\n",
       "\t    window.dispatchEvent(event);\n",
       "\t    console.log('Finished loading Nyaplotjs');\n",
       "\n",
       "\t};\n",
       "\n",
       "\n",
       "});});\n",
       "}\n"
      ],
      "text/plain": [
       "\"if(window['d3'] === undefined ||\\n   window['Nyaplot'] === undefined){\\n    var path = {\\\"d3\\\":\\\"https://cdnjs.cloudflare.com/ajax/libs/d3/3.5.5/d3.min\\\",\\\"downloadable\\\":\\\"http://cdn.rawgit.com/domitry/d3-downloadable/master/d3-downloadable\\\"};\\n\\n\\n\\n    var shim = {\\\"d3\\\":{\\\"exports\\\":\\\"d3\\\"},\\\"downloadable\\\":{\\\"exports\\\":\\\"downloadable\\\"}};\\n\\n    require.config({paths: path, shim:shim});\\n\\n\\nrequire(['d3'], function(d3){window['d3']=d3;console.log('finished loading d3');require(['downloadable'], function(downloadable){window['downloadable']=downloadable;console.log('finished loading downloadable');\\n\\n\\tvar script = d3.select(\\\"head\\\")\\n\\t    .append(\\\"script\\\")\\n\\t    .attr(\\\"src\\\", \\\"http://cdn.rawgit.com/domitry/Nyaplotjs/master/release/nyaplot.js\\\")\\n\\t    .attr(\\\"async\\\", true);\\n\\n\\tscript[0][0].onload = script[0][0].onreadystatechange = function(){\\n\\n\\n\\t    var event = document.createEvent(\\\"HTMLEvents\\\");\\n\\t    event.initEvent(\\\"load_nyaplot\\\",false,false);\\n\\t    window.dispatchEvent(event);\\n\\t    console.log('Finished loading Nyaplotjs');\\n\\n\\t};\\n\\n\\n});});\\n}\\n\""
      ]
     },
     "metadata": {},
     "output_type": "display_data"
    },
    {
     "data": {
      "text/plain": [
       "true"
      ]
     },
     "execution_count": 1,
     "metadata": {},
     "output_type": "execute_result"
    }
   ],
   "source": [
    "require 'nyaplot'"
   ]
  },
  {
   "cell_type": "code",
   "execution_count": 2,
   "metadata": {
    "collapsed": false
   },
   "outputs": [
    {
     "name": "stdout",
     "output_type": "stream",
     "text": [
      "[-3.0, -2.5, -2.0, -1.5, -1.0, -0.5, 0.0]\n"
     ]
    }
   ],
   "source": [
    "header = nil\n",
    "data = {}\n",
    "File.read('chip1_vth-p_ari_2016.9.26.13.51.csv').each_line{|l|\n",
    "  if header.nil?\n",
    "    header = l.chop.split(',') \n",
    "  else\n",
    "    vbs, vgs, vds, ids = l.chop.split(',').map{|a| a.to_f}\n",
    "    data[vbs] ||= {}\n",
    "    data[vbs][vgs] ||= {}\n",
    "    data[vbs][vgs][vds] = ids\n",
    "  end\n",
    "}\n",
    "puts data.keys.inspect\n",
    "vds_array = data[0.0][0.0].keys.sort\n",
    "#vgs_array = ['0', '0.1', '0.2']\n",
    "vgs_array = data[0.0].keys.sort\n",
    "out = File.open('out.csv', 'w')\n",
    "out.puts \"Vds, #{vgs_array.join(',')}\"\n",
    "vds_array.each{|vds|\n",
    "  out.puts \"#{vds}, #{vgs_array.map{|vgs| data[0.0][vgs][vds]}.join(',')}\"\n",
    "}\n",
    "out.close"
   ]
  },
  {
   "cell_type": "code",
   "execution_count": 3,
   "metadata": {
    "collapsed": false
   },
   "outputs": [
    {
     "name": "stdout",
     "output_type": "stream",
     "text": [
      "vbs = 0.0\n",
      "vbs = -1.0\n",
      "vbs = -2.0\n",
      "vbs = -3.0\n"
     ]
    },
    {
     "data": {
      "text/html": [
       "<div id='vis-a5945822-07b0-4a52-8f75-656432628720'></div>\n",
       "<script>\n",
       "(function(){\n",
       "    var render = function(){\n",
       "        var model = {\"panes\":[{\"diagrams\":[{\"type\":\"scatter\",\"options\":{\"x\":\"data0\",\"y\":\"data1\",\"color\":[\"rgb(251,180,174)\",\"rgb(179,205,227)\",\"rgb(204,235,197)\",\"rgb(222,203,228)\",\"rgb(254,217,166)\",\"rgb(255,255,204)\",\"rgb(229,216,189)\",\"rgb(253,218,236)\",\"rgb(242,242,242)\"]},\"data\":\"e13959d8-9cb3-4dd7-adfd-98f8ecef40b7\"},{\"type\":\"scatter\",\"options\":{\"x\":\"data0\",\"y\":\"data1\",\"color\":[\"rgb(251,180,174)\",\"rgb(179,205,227)\",\"rgb(204,235,197)\",\"rgb(222,203,228)\",\"rgb(254,217,166)\",\"rgb(255,255,204)\",\"rgb(229,216,189)\",\"rgb(253,218,236)\",\"rgb(242,242,242)\"]},\"data\":\"d2982304-9237-4700-a5c2-90fe83ba482b\"},{\"type\":\"scatter\",\"options\":{\"x\":\"data0\",\"y\":\"data1\",\"color\":[\"rgb(141,211,199)\",\"rgb(255,255,179)\",\"rgb(190,186,218)\",\"rgb(251,128,114)\",\"rgb(128,177,211)\",\"rgb(253,180,98)\",\"rgb(179,222,105)\",\"rgb(252,205,229)\",\"rgb(217,217,217)\"]},\"data\":\"ab6b322e-bb41-49c3-ba23-bd2ea1f68453\"},{\"type\":\"scatter\",\"options\":{\"x\":\"data0\",\"y\":\"data1\",\"color\":[\"rgb(127,201,127)\",\"rgb(190,174,212)\",\"rgb(253,192,134)\",\"rgb(255,255,153)\",\"rgb(56,108,176)\",\"rgb(240,2,127)\",\"rgb(191,91,23)\",\"rgb(102,102,102)\"]},\"data\":\"856878c7-f87a-4d30-8693-e27374f1049f\"}],\"options\":{\"x_label\":\"Vgs\",\"y_label\":\"Ids\",\"zoom\":true,\"width\":700,\"xrange\":[0.0,5.0],\"yrange\":[-6.0e-08,0.00046596]}}],\"data\":{\"e13959d8-9cb3-4dd7-adfd-98f8ecef40b7\":[{\"data0\":0.0,\"data1\":3.0e-08},{\"data0\":0.1,\"data1\":0.0},{\"data0\":0.2,\"data1\":-6.0e-08},{\"data0\":0.3,\"data1\":1.0e-08},{\"data0\":0.4,\"data1\":8.0e-08},{\"data0\":0.5,\"data1\":7.9e-07},{\"data0\":0.6,\"data1\":4.77e-06},{\"data0\":0.7,\"data1\":1.465e-05},{\"data0\":0.8,\"data1\":2.841e-05},{\"data0\":0.9,\"data1\":4.363e-05},{\"data0\":1.0,\"data1\":5.935e-05},{\"data0\":1.1,\"data1\":7.49e-05},{\"data0\":1.2,\"data1\":9.031e-05},{\"data0\":1.3,\"data1\":0.00010533},{\"data0\":1.4,\"data1\":0.00011999},{\"data0\":1.5,\"data1\":0.00013418},{\"data0\":1.6,\"data1\":0.00014804},{\"data0\":1.7,\"data1\":0.00016154},{\"data0\":1.8,\"data1\":0.00017447},{\"data0\":1.9,\"data1\":0.00018719},{\"data0\":2.0,\"data1\":0.00019955},{\"data0\":2.1,\"data1\":0.00021157},{\"data0\":2.2,\"data1\":0.00022331},{\"data0\":2.3,\"data1\":0.00023468},{\"data0\":2.4,\"data1\":0.00024581},{\"data0\":2.5,\"data1\":0.00025671},{\"data0\":2.6,\"data1\":0.00026739},{\"data0\":2.7,\"data1\":0.00027768},{\"data0\":2.8,\"data1\":0.00028785},{\"data0\":2.9,\"data1\":0.00029777},{\"data0\":3.0,\"data1\":0.00030747},{\"data0\":3.1,\"data1\":0.00031701},{\"data0\":3.2,\"data1\":0.00032625},{\"data0\":3.3,\"data1\":0.00033537},{\"data0\":3.4,\"data1\":0.00034439},{\"data0\":3.5,\"data1\":0.00035313},{\"data0\":3.6,\"data1\":0.00036168},{\"data0\":3.7,\"data1\":0.00037011},{\"data0\":3.8,\"data1\":0.00037841},{\"data0\":3.9,\"data1\":0.00038648},{\"data0\":4.0,\"data1\":0.00039445},{\"data0\":4.1,\"data1\":0.00040217},{\"data0\":4.2,\"data1\":0.00040987},{\"data0\":4.3,\"data1\":0.00041738},{\"data0\":4.4,\"data1\":0.00042473},{\"data0\":4.5,\"data1\":0.00043192},{\"data0\":4.6,\"data1\":0.00043896},{\"data0\":4.7,\"data1\":0.00044591},{\"data0\":4.8,\"data1\":0.00045265},{\"data0\":4.9,\"data1\":0.00045942},{\"data0\":5.0,\"data1\":0.00046596}],\"d2982304-9237-4700-a5c2-90fe83ba482b\":[{\"data0\":0.0,\"data1\":3.0e-08},{\"data0\":0.1,\"data1\":-2.0e-08},{\"data0\":0.2,\"data1\":-3.0e-08},{\"data0\":0.3,\"data1\":1.0e-08},{\"data0\":0.4,\"data1\":2.0e-08},{\"data0\":0.5,\"data1\":0.0},{\"data0\":0.6,\"data1\":4.0e-08},{\"data0\":0.7,\"data1\":3.9e-07},{\"data0\":0.8,\"data1\":3.46e-06},{\"data0\":0.9,\"data1\":1.243e-05},{\"data0\":1.0,\"data1\":2.607e-05},{\"data0\":1.1,\"data1\":4.13e-05},{\"data0\":1.2,\"data1\":5.685e-05},{\"data0\":1.3,\"data1\":7.227e-05},{\"data0\":1.4,\"data1\":8.755e-05},{\"data0\":1.5,\"data1\":0.00010235},{\"data0\":1.6,\"data1\":0.00011688},{\"data0\":1.7,\"data1\":0.00013092},{\"data0\":1.8,\"data1\":0.00014453},{\"data0\":1.9,\"data1\":0.00015785},{\"data0\":2.0,\"data1\":0.00017079},{\"data0\":2.1,\"data1\":0.00018335},{\"data0\":2.2,\"data1\":0.00019564},{\"data0\":2.3,\"data1\":0.00020755},{\"data0\":2.4,\"data1\":0.00021914},{\"data0\":2.5,\"data1\":0.00023052},{\"data0\":2.6,\"data1\":0.00024154},{\"data0\":2.7,\"data1\":0.00025224},{\"data0\":2.8,\"data1\":0.00026292},{\"data0\":2.9,\"data1\":0.00027326},{\"data0\":3.0,\"data1\":0.00028335},{\"data0\":3.1,\"data1\":0.00029324},{\"data0\":3.2,\"data1\":0.00030288},{\"data0\":3.3,\"data1\":0.00031235},{\"data0\":3.4,\"data1\":0.00032159},{\"data0\":3.5,\"data1\":0.00033069},{\"data0\":3.6,\"data1\":0.00033959},{\"data0\":3.7,\"data1\":0.00034829},{\"data0\":3.8,\"data1\":0.00035682},{\"data0\":3.9,\"data1\":0.00036522},{\"data0\":4.0,\"data1\":0.00037346},{\"data0\":4.1,\"data1\":0.00038146},{\"data0\":4.2,\"data1\":0.00038932},{\"data0\":4.3,\"data1\":0.00039712},{\"data0\":4.4,\"data1\":0.00040472},{\"data0\":4.5,\"data1\":0.00041213},{\"data0\":4.6,\"data1\":0.00041948},{\"data0\":4.7,\"data1\":0.00042661},{\"data0\":4.8,\"data1\":0.00043368},{\"data0\":4.9,\"data1\":0.00044055},{\"data0\":5.0,\"data1\":0.00044735}],\"ab6b322e-bb41-49c3-ba23-bd2ea1f68453\":[{\"data0\":0.0,\"data1\":2.0e-08},{\"data0\":0.1,\"data1\":4.0e-08},{\"data0\":0.2,\"data1\":-4.0e-08},{\"data0\":0.3,\"data1\":-0.0},{\"data0\":0.4,\"data1\":-2.0e-08},{\"data0\":0.5,\"data1\":-1.0e-08},{\"data0\":0.6,\"data1\":1.0e-08},{\"data0\":0.7,\"data1\":-4.0e-08},{\"data0\":0.8,\"data1\":8.0e-08},{\"data0\":0.9,\"data1\":9.0e-07},{\"data0\":1.0,\"data1\":6.03e-06},{\"data0\":1.1,\"data1\":1.744e-05},{\"data0\":1.2,\"data1\":3.197e-05},{\"data0\":1.3,\"data1\":4.739e-05},{\"data0\":1.4,\"data1\":6.296e-05},{\"data0\":1.5,\"data1\":7.829e-05},{\"data0\":1.6,\"data1\":9.327e-05},{\"data0\":1.7,\"data1\":0.00010787},{\"data0\":1.8,\"data1\":0.00012197},{\"data0\":1.9,\"data1\":0.00013577},{\"data0\":2.0,\"data1\":0.00014917},{\"data0\":2.1,\"data1\":0.00016223},{\"data0\":2.2,\"data1\":0.00017494},{\"data0\":2.3,\"data1\":0.00018718},{\"data0\":2.4,\"data1\":0.00019926},{\"data0\":2.5,\"data1\":0.00021096},{\"data0\":2.6,\"data1\":0.00022245},{\"data0\":2.7,\"data1\":0.00023356},{\"data0\":2.8,\"data1\":0.00024443},{\"data0\":2.9,\"data1\":0.00025515},{\"data0\":3.0,\"data1\":0.00026553},{\"data0\":3.1,\"data1\":0.00027572},{\"data0\":3.2,\"data1\":0.00028566},{\"data0\":3.3,\"data1\":0.00029541},{\"data0\":3.4,\"data1\":0.00030496},{\"data0\":3.5,\"data1\":0.00031439},{\"data0\":3.6,\"data1\":0.00032351},{\"data0\":3.7,\"data1\":0.00033242},{\"data0\":3.8,\"data1\":0.00034126},{\"data0\":3.9,\"data1\":0.00034985},{\"data0\":4.0,\"data1\":0.00035826},{\"data0\":4.1,\"data1\":0.00036659},{\"data0\":4.2,\"data1\":0.00037466},{\"data0\":4.3,\"data1\":0.00038263},{\"data0\":4.4,\"data1\":0.00039041},{\"data0\":4.5,\"data1\":0.00039803},{\"data0\":4.6,\"data1\":0.00040553},{\"data0\":4.7,\"data1\":0.00041289},{\"data0\":4.8,\"data1\":0.00042006},{\"data0\":4.9,\"data1\":0.00042721},{\"data0\":5.0,\"data1\":0.00043411}],\"856878c7-f87a-4d30-8693-e27374f1049f\":[{\"data0\":0.0,\"data1\":0.0},{\"data0\":0.1,\"data1\":1.0e-08},{\"data0\":0.2,\"data1\":-3.0e-08},{\"data0\":0.3,\"data1\":2.0e-08},{\"data0\":0.4,\"data1\":6.0e-08},{\"data0\":0.5,\"data1\":7.0e-08},{\"data0\":0.6,\"data1\":-1.0e-08},{\"data0\":0.7,\"data1\":-1.0e-08},{\"data0\":0.8,\"data1\":6.0e-08},{\"data0\":0.9,\"data1\":0.0},{\"data0\":1.0,\"data1\":3.4e-07},{\"data0\":1.1,\"data1\":3.39e-06},{\"data0\":1.2,\"data1\":1.294e-05},{\"data0\":1.3,\"data1\":2.67e-05},{\"data0\":1.4,\"data1\":4.203e-05},{\"data0\":1.5,\"data1\":5.754e-05},{\"data0\":1.6,\"data1\":7.292e-05},{\"data0\":1.7,\"data1\":8.787e-05},{\"data0\":1.8,\"data1\":0.00010241},{\"data0\":1.9,\"data1\":0.00011653},{\"data0\":2.0,\"data1\":0.00013042},{\"data0\":2.1,\"data1\":0.00014379},{\"data0\":2.2,\"data1\":0.00015692},{\"data0\":2.3,\"data1\":0.00016949},{\"data0\":2.4,\"data1\":0.0001819},{\"data0\":2.5,\"data1\":0.00019403},{\"data0\":2.6,\"data1\":0.0002058},{\"data0\":2.7,\"data1\":0.00021715},{\"data0\":2.8,\"data1\":0.0002283},{\"data0\":2.9,\"data1\":0.00023935},{\"data0\":3.0,\"data1\":0.00025002},{\"data0\":3.1,\"data1\":0.00026043},{\"data0\":3.2,\"data1\":0.00027063},{\"data0\":3.3,\"data1\":0.00028059},{\"data0\":3.4,\"data1\":0.00029044},{\"data0\":3.5,\"data1\":0.00030002},{\"data0\":3.6,\"data1\":0.00030937},{\"data0\":3.7,\"data1\":0.00031858},{\"data0\":3.8,\"data1\":0.00032753},{\"data0\":3.9,\"data1\":0.00033631},{\"data0\":4.0,\"data1\":0.00034505},{\"data0\":4.1,\"data1\":0.00035344},{\"data0\":4.2,\"data1\":0.00036182},{\"data0\":4.3,\"data1\":0.00036995},{\"data0\":4.4,\"data1\":0.00037789},{\"data0\":4.5,\"data1\":0.0003857},{\"data0\":4.6,\"data1\":0.00039334},{\"data0\":4.7,\"data1\":0.00040085},{\"data0\":4.8,\"data1\":0.00040826},{\"data0\":4.9,\"data1\":0.0004155},{\"data0\":5.0,\"data1\":0.00042264}]},\"extension\":[]}\n",
       "        var id_name = '#vis-a5945822-07b0-4a52-8f75-656432628720';\n",
       "        Nyaplot.core.parse(model, id_name);\n",
       "\n",
       "        require(['downloadable'], function(downloadable){\n",
       "          var svg = d3.select(id_name).select(\"svg\");\n",
       "\t  if(!svg.empty())\n",
       "\t    svg.call(downloadable().filename('fig'));\n",
       "\t});\n",
       "    };\n",
       "    if(window['Nyaplot']==undefined){\n",
       "        window.addEventListener('load_nyaplot', render, false);\n",
       "\treturn;\n",
       "    } else {\n",
       "       render();\n",
       "    }\n",
       "})();\n",
       "</script>\n"
      ],
      "text/plain": [
       "#<Nyaplot::Frame:0x00000001c58220 @properties={:panes=>[#<Nyaplot::Plot:0x00000001ce3a28 @properties={:diagrams=>[#<Nyaplot::Diagram:0x00000001c960c0 @properties={:type=>:scatter, :options=>{:x=>\"data0\", :y=>\"data1\", :color=>#<Nyaplot::Color:0x00000001c948d8 @source=[\"rgb(251,180,174)\", \"rgb(179,205,227)\", \"rgb(204,235,197)\", \"rgb(222,203,228)\", \"rgb(254,217,166)\", \"rgb(255,255,204)\", \"rgb(229,216,189)\", \"rgb(253,218,236)\", \"rgb(242,242,242)\"]>}, :data=>\"e13959d8-9cb3-4dd7-adfd-98f8ecef40b7\"}, @xrange=[0.0, 5.0], @yrange=[-6.0e-08, 0.00046596]>, #<Nyaplot::Diagram:0x00000001c82b10 @properties={:type=>:scatter, :options=>{:x=>\"data0\", :y=>\"data1\", :color=>#<Nyaplot::Color:0x00000001c81238 @source=[\"rgb(251,180,174)\", \"rgb(179,205,227)\", \"rgb(204,235,197)\", \"rgb(222,203,228)\", \"rgb(254,217,166)\", \"rgb(255,255,204)\", \"rgb(229,216,189)\", \"rgb(253,218,236)\", \"rgb(242,242,242)\"]>}, :data=>\"d2982304-9237-4700-a5c2-90fe83ba482b\"}, @xrange=[0.0, 5.0], @yrange=[-3.0e-08, 0.00044735]>, #<Nyaplot::Diagram:0x00000001c72260 @properties={:type=>:scatter, :options=>{:x=>\"data0\", :y=>\"data1\", :color=>#<Nyaplot::Color:0x00000001c70c08 @source=[\"rgb(141,211,199)\", \"rgb(255,255,179)\", \"rgb(190,186,218)\", \"rgb(251,128,114)\", \"rgb(128,177,211)\", \"rgb(253,180,98)\", \"rgb(179,222,105)\", \"rgb(252,205,229)\", \"rgb(217,217,217)\"]>}, :data=>\"ab6b322e-bb41-49c3-ba23-bd2ea1f68453\"}, @xrange=[0.0, 5.0], @yrange=[-4.0e-08, 0.00043411]>, #<Nyaplot::Diagram:0x00000001c59b70 @properties={:type=>:scatter, :options=>{:x=>\"data0\", :y=>\"data1\", :color=>#<Nyaplot::Color:0x00000001c58450 @source=[\"rgb(127,201,127)\", \"rgb(190,174,212)\", \"rgb(253,192,134)\", \"rgb(255,255,153)\", \"rgb(56,108,176)\", \"rgb(240,2,127)\", \"rgb(191,91,23)\", \"rgb(102,102,102)\"]>}, :data=>\"856878c7-f87a-4d30-8693-e27374f1049f\"}, @xrange=[0.0, 5.0], @yrange=[-3.0e-08, 0.00042264]>], :options=>{:x_label=>\"Vgs\", :y_label=>\"Ids\", :zoom=>true, :width=>700, :xrange=>[0.0, 5.0], :yrange=>[-6.0e-08, 0.00046596]}}>], :data=>{\"e13959d8-9cb3-4dd7-adfd-98f8ecef40b7\"=>#<Nyaplot::DataFrame:0x00000001cb7a90 @name=\"e13959d8-9cb3-4dd7-adfd-98f8ecef40b7\", @rows=[{:data0=>0.0, :data1=>3.0e-08}, {:data0=>0.1, :data1=>0.0}, {:data0=>0.2, :data1=>-6.0e-08}, {:data0=>0.3, :data1=>1.0e-08}, {:data0=>0.4, :data1=>8.0e-08}, {:data0=>0.5, :data1=>7.9e-07}, {:data0=>0.6, :data1=>4.77e-06}, {:data0=>0.7, :data1=>1.465e-05}, {:data0=>0.8, :data1=>2.841e-05}, {:data0=>0.9, :data1=>4.363e-05}, {:data0=>1.0, :data1=>5.935e-05}, {:data0=>1.1, :data1=>7.49e-05}, {:data0=>1.2, :data1=>9.031e-05}, {:data0=>1.3, :data1=>0.00010533}, {:data0=>1.4, :data1=>0.00011999}, {:data0=>1.5, :data1=>0.00013418}, {:data0=>1.6, :data1=>0.00014804}, {:data0=>1.7, :data1=>0.00016154}, {:data0=>1.8, :data1=>0.00017447}, {:data0=>1.9, :data1=>0.00018719}, {:data0=>2.0, :data1=>0.00019955}, {:data0=>2.1, :data1=>0.00021157}, {:data0=>2.2, :data1=>0.00022331}, {:data0=>2.3, :data1=>0.00023468}, {:data0=>2.4, :data1=>0.00024581}, {:data0=>2.5, :data1=>0.00025671}, {:data0=>2.6, :data1=>0.00026739}, {:data0=>2.7, :data1=>0.00027768}, {:data0=>2.8, :data1=>0.00028785}, {:data0=>2.9, :data1=>0.00029777}, {:data0=>3.0, :data1=>0.00030747}, {:data0=>3.1, :data1=>0.00031701}, {:data0=>3.2, :data1=>0.00032625}, {:data0=>3.3, :data1=>0.00033537}, {:data0=>3.4, :data1=>0.00034439}, {:data0=>3.5, :data1=>0.00035313}, {:data0=>3.6, :data1=>0.00036168}, {:data0=>3.7, :data1=>0.00037011}, {:data0=>3.8, :data1=>0.00037841}, {:data0=>3.9, :data1=>0.00038648}, {:data0=>4.0, :data1=>0.00039445}, {:data0=>4.1, :data1=>0.00040217}, {:data0=>4.2, :data1=>0.00040987}, {:data0=>4.3, :data1=>0.00041738}, {:data0=>4.4, :data1=>0.00042473}, {:data0=>4.5, :data1=>0.00043192}, {:data0=>4.6, :data1=>0.00043896}, {:data0=>4.7, :data1=>0.00044591}, {:data0=>4.8, :data1=>0.00045265}, {:data0=>4.9, :data1=>0.00045942}, {:data0=>5.0, :data1=>0.00046596}]>, \"d2982304-9237-4700-a5c2-90fe83ba482b\"=>#<Nyaplot::DataFrame:0x00000001c8c840 @name=\"d2982304-9237-4700-a5c2-90fe83ba482b\", @rows=[{:data0=>0.0, :data1=>3.0e-08}, {:data0=>0.1, :data1=>-2.0e-08}, {:data0=>0.2, :data1=>-3.0e-08}, {:data0=>0.3, :data1=>1.0e-08}, {:data0=>0.4, :data1=>2.0e-08}, {:data0=>0.5, :data1=>0.0}, {:data0=>0.6, :data1=>4.0e-08}, {:data0=>0.7, :data1=>3.9e-07}, {:data0=>0.8, :data1=>3.46e-06}, {:data0=>0.9, :data1=>1.243e-05}, {:data0=>1.0, :data1=>2.607e-05}, {:data0=>1.1, :data1=>4.13e-05}, {:data0=>1.2, :data1=>5.685e-05}, {:data0=>1.3, :data1=>7.227e-05}, {:data0=>1.4, :data1=>8.755e-05}, {:data0=>1.5, :data1=>0.00010235}, {:data0=>1.6, :data1=>0.00011688}, {:data0=>1.7, :data1=>0.00013092}, {:data0=>1.8, :data1=>0.00014453}, {:data0=>1.9, :data1=>0.00015785}, {:data0=>2.0, :data1=>0.00017079}, {:data0=>2.1, :data1=>0.00018335}, {:data0=>2.2, :data1=>0.00019564}, {:data0=>2.3, :data1=>0.00020755}, {:data0=>2.4, :data1=>0.00021914}, {:data0=>2.5, :data1=>0.00023052}, {:data0=>2.6, :data1=>0.00024154}, {:data0=>2.7, :data1=>0.00025224}, {:data0=>2.8, :data1=>0.00026292}, {:data0=>2.9, :data1=>0.00027326}, {:data0=>3.0, :data1=>0.00028335}, {:data0=>3.1, :data1=>0.00029324}, {:data0=>3.2, :data1=>0.00030288}, {:data0=>3.3, :data1=>0.00031235}, {:data0=>3.4, :data1=>0.00032159}, {:data0=>3.5, :data1=>0.00033069}, {:data0=>3.6, :data1=>0.00033959}, {:data0=>3.7, :data1=>0.00034829}, {:data0=>3.8, :data1=>0.00035682}, {:data0=>3.9, :data1=>0.00036522}, {:data0=>4.0, :data1=>0.00037346}, {:data0=>4.1, :data1=>0.00038146}, {:data0=>4.2, :data1=>0.00038932}, {:data0=>4.3, :data1=>0.00039712}, {:data0=>4.4, :data1=>0.00040472}, {:data0=>4.5, :data1=>0.00041213}, {:data0=>4.6, :data1=>0.00041948}, {:data0=>4.7, :data1=>0.00042661}, {:data0=>4.8, :data1=>0.00043368}, {:data0=>4.9, :data1=>0.00044055}, {:data0=>5.0, :data1=>0.00044735}]>, \"ab6b322e-bb41-49c3-ba23-bd2ea1f68453\"=>#<Nyaplot::DataFrame:0x00000001c7ee48 @name=\"ab6b322e-bb41-49c3-ba23-bd2ea1f68453\", @rows=[{:data0=>0.0, :data1=>2.0e-08}, {:data0=>0.1, :data1=>4.0e-08}, {:data0=>0.2, :data1=>-4.0e-08}, {:data0=>0.3, :data1=>-0.0}, {:data0=>0.4, :data1=>-2.0e-08}, {:data0=>0.5, :data1=>-1.0e-08}, {:data0=>0.6, :data1=>1.0e-08}, {:data0=>0.7, :data1=>-4.0e-08}, {:data0=>0.8, :data1=>8.0e-08}, {:data0=>0.9, :data1=>9.0e-07}, {:data0=>1.0, :data1=>6.03e-06}, {:data0=>1.1, :data1=>1.744e-05}, {:data0=>1.2, :data1=>3.197e-05}, {:data0=>1.3, :data1=>4.739e-05}, {:data0=>1.4, :data1=>6.296e-05}, {:data0=>1.5, :data1=>7.829e-05}, {:data0=>1.6, :data1=>9.327e-05}, {:data0=>1.7, :data1=>0.00010787}, {:data0=>1.8, :data1=>0.00012197}, {:data0=>1.9, :data1=>0.00013577}, {:data0=>2.0, :data1=>0.00014917}, {:data0=>2.1, :data1=>0.00016223}, {:data0=>2.2, :data1=>0.00017494}, {:data0=>2.3, :data1=>0.00018718}, {:data0=>2.4, :data1=>0.00019926}, {:data0=>2.5, :data1=>0.00021096}, {:data0=>2.6, :data1=>0.00022245}, {:data0=>2.7, :data1=>0.00023356}, {:data0=>2.8, :data1=>0.00024443}, {:data0=>2.9, :data1=>0.00025515}, {:data0=>3.0, :data1=>0.00026553}, {:data0=>3.1, :data1=>0.00027572}, {:data0=>3.2, :data1=>0.00028566}, {:data0=>3.3, :data1=>0.00029541}, {:data0=>3.4, :data1=>0.00030496}, {:data0=>3.5, :data1=>0.00031439}, {:data0=>3.6, :data1=>0.00032351}, {:data0=>3.7, :data1=>0.00033242}, {:data0=>3.8, :data1=>0.00034126}, {:data0=>3.9, :data1=>0.00034985}, {:data0=>4.0, :data1=>0.00035826}, {:data0=>4.1, :data1=>0.00036659}, {:data0=>4.2, :data1=>0.00037466}, {:data0=>4.3, :data1=>0.00038263}, {:data0=>4.4, :data1=>0.00039041}, {:data0=>4.5, :data1=>0.00039803}, {:data0=>4.6, :data1=>0.00040553}, {:data0=>4.7, :data1=>0.00041289}, {:data0=>4.8, :data1=>0.00042006}, {:data0=>4.9, :data1=>0.00042721}, {:data0=>5.0, :data1=>0.00043411}]>, \"856878c7-f87a-4d30-8693-e27374f1049f\"=>#<Nyaplot::DataFrame:0x00000001c62680 @name=\"856878c7-f87a-4d30-8693-e27374f1049f\", @rows=[{:data0=>0.0, :data1=>0.0}, {:data0=>0.1, :data1=>1.0e-08}, {:data0=>0.2, :data1=>-3.0e-08}, {:data0=>0.3, :data1=>2.0e-08}, {:data0=>0.4, :data1=>6.0e-08}, {:data0=>0.5, :data1=>7.0e-08}, {:data0=>0.6, :data1=>-1.0e-08}, {:data0=>0.7, :data1=>-1.0e-08}, {:data0=>0.8, :data1=>6.0e-08}, {:data0=>0.9, :data1=>0.0}, {:data0=>1.0, :data1=>3.4e-07}, {:data0=>1.1, :data1=>3.39e-06}, {:data0=>1.2, :data1=>1.294e-05}, {:data0=>1.3, :data1=>2.67e-05}, {:data0=>1.4, :data1=>4.203e-05}, {:data0=>1.5, :data1=>5.754e-05}, {:data0=>1.6, :data1=>7.292e-05}, {:data0=>1.7, :data1=>8.787e-05}, {:data0=>1.8, :data1=>0.00010241}, {:data0=>1.9, :data1=>0.00011653}, {:data0=>2.0, :data1=>0.00013042}, {:data0=>2.1, :data1=>0.00014379}, {:data0=>2.2, :data1=>0.00015692}, {:data0=>2.3, :data1=>0.00016949}, {:data0=>2.4, :data1=>0.0001819}, {:data0=>2.5, :data1=>0.00019403}, {:data0=>2.6, :data1=>0.0002058}, {:data0=>2.7, :data1=>0.00021715}, {:data0=>2.8, :data1=>0.0002283}, {:data0=>2.9, :data1=>0.00023935}, {:data0=>3.0, :data1=>0.00025002}, {:data0=>3.1, :data1=>0.00026043}, {:data0=>3.2, :data1=>0.00027063}, {:data0=>3.3, :data1=>0.00028059}, {:data0=>3.4, :data1=>0.00029044}, {:data0=>3.5, :data1=>0.00030002}, {:data0=>3.6, :data1=>0.00030937}, {:data0=>3.7, :data1=>0.00031858}, {:data0=>3.8, :data1=>0.00032753}, {:data0=>3.9, :data1=>0.00033631}, {:data0=>4.0, :data1=>0.00034505}, {:data0=>4.1, :data1=>0.00035344}, {:data0=>4.2, :data1=>0.00036182}, {:data0=>4.3, :data1=>0.00036995}, {:data0=>4.4, :data1=>0.00037789}, {:data0=>4.5, :data1=>0.0003857}, {:data0=>4.6, :data1=>0.00039334}, {:data0=>4.7, :data1=>0.00040085}, {:data0=>4.8, :data1=>0.00040826}, {:data0=>4.9, :data1=>0.0004155}, {:data0=>5.0, :data1=>0.00042264}]>}, :extension=>[]}>"
      ]
     },
     "metadata": {},
     "output_type": "display_data"
    }
   ],
   "source": [
    "plot = Nyaplot::Plot.new\n",
    "vbs_array = data.keys\n",
    "#puts vbs_array.inspect\n",
    "x=vgs_array\n",
    "# puts x.inspect\n",
    "0.0.step(-3, -1){|vbs|\n",
    "  puts \"vbs = #{vbs}\"\n",
    "  y=vgs_array.map{|a| data[vbs][a][0.1]}\n",
    "  # puts y.inspect\n",
    "  sc = plot.add(:scatter, x, y)\n",
    "  color = Nyaplot::Colors.qual\n",
    "  sc.color(color)\n",
    "}\n",
    "plot.x_label 'Vgs'\n",
    "plot.y_label 'Ids'\n",
    "plot.show\n",
    "plot.export_html 'Ids-Vgs.csv'\n",
    "nil"
   ]
  },
  {
   "cell_type": "code",
   "execution_count": 4,
   "metadata": {
    "collapsed": false,
    "scrolled": true
   },
   "outputs": [
    {
     "name": "stdout",
     "output_type": "stream",
     "text": [
      "vgs = 1.2\n",
      "vgs = 2.2\n",
      "vgs = 3.2\n",
      "vgs = 4.2\n"
     ]
    },
    {
     "data": {
      "text/html": [
       "<div id='vis-9a39d321-4c5b-4102-9e3f-fd029ddb9c89'></div>\n",
       "<script>\n",
       "(function(){\n",
       "    var render = function(){\n",
       "        var model = {\"panes\":[{\"diagrams\":[{\"type\":\"scatter\",\"options\":{\"x\":\"data0\",\"y\":\"data1\",\"color\":[\"rgb(102,194,165)\",\"rgb(252,141,98)\",\"rgb(141,160,203)\",\"rgb(231,138,195)\",\"rgb(166,216,84)\",\"rgb(255,217,47)\",\"rgb(229,196,148)\",\"rgb(179,179,179)\"]},\"data\":\"481f91a4-782f-4375-bfec-5134f59474b2\"},{\"type\":\"scatter\",\"options\":{\"x\":\"data0\",\"y\":\"data1\",\"color\":[\"rgb(179,226,205)\",\"rgb(253,205,172)\",\"rgb(203,213,232)\",\"rgb(244,202,228)\",\"rgb(230,245,201)\",\"rgb(255,242,174)\",\"rgb(241,226,204)\",\"rgb(204,204,204)\"]},\"data\":\"24fed552-acdb-40d9-8a17-da37d0036ade\"},{\"type\":\"scatter\",\"options\":{\"x\":\"data0\",\"y\":\"data1\",\"color\":[\"rgb(102,194,165)\",\"rgb(252,141,98)\",\"rgb(141,160,203)\",\"rgb(231,138,195)\",\"rgb(166,216,84)\",\"rgb(255,217,47)\",\"rgb(229,196,148)\",\"rgb(179,179,179)\"]},\"data\":\"a9c3e748-558a-43e7-8adc-0bec614b1e10\"},{\"type\":\"scatter\",\"options\":{\"x\":\"data0\",\"y\":\"data1\",\"color\":[\"rgb(27,158,119)\",\"rgb(217,95,2)\",\"rgb(117,112,179)\",\"rgb(231,41,138)\",\"rgb(102,166,30)\",\"rgb(230,171,2)\",\"rgb(166,118,29)\",\"rgb(102,102,102)\"]},\"data\":\"55b3df7e-1bbd-48c2-b817-de964f2a37ba\"}],\"options\":{\"x_label\":\"Vds\",\"y_label\":\"Ids\",\"zoom\":true,\"width\":700,\"xrange\":[0.0,5.0],\"yrange\":[-5.9e-07,0.00653863]}}],\"data\":{\"481f91a4-782f-4375-bfec-5134f59474b2\":[{\"data0\":0.0,\"data1\":-1.2e-07},{\"data0\":0.1,\"data1\":9.031e-05},{\"data0\":0.2,\"data1\":0.00016149},{\"data0\":0.3,\"data1\":0.00021389},{\"data0\":0.4,\"data1\":0.00024906},{\"data0\":0.5,\"data1\":0.0002697},{\"data0\":0.6,\"data1\":0.00028065},{\"data0\":0.7,\"data1\":0.00028635},{\"data0\":0.8,\"data1\":0.00028989},{\"data0\":0.9,\"data1\":0.00029262},{\"data0\":1.0,\"data1\":0.00029491},{\"data0\":1.1,\"data1\":0.00029688},{\"data0\":1.2,\"data1\":0.00029884},{\"data0\":1.3,\"data1\":0.00030058},{\"data0\":1.4,\"data1\":0.0003023},{\"data0\":1.5,\"data1\":0.00030385},{\"data0\":1.6,\"data1\":0.00030539},{\"data0\":1.7,\"data1\":0.00030682},{\"data0\":1.8,\"data1\":0.00030824},{\"data0\":1.9,\"data1\":0.00030962},{\"data0\":2.0,\"data1\":0.00031092},{\"data0\":2.1,\"data1\":0.00031227},{\"data0\":2.2,\"data1\":0.0003134},{\"data0\":2.3,\"data1\":0.00031461},{\"data0\":2.4,\"data1\":0.00031585},{\"data0\":2.5,\"data1\":0.00031695},{\"data0\":2.6,\"data1\":0.00031798},{\"data0\":2.7,\"data1\":0.00031918},{\"data0\":2.8,\"data1\":0.00032023},{\"data0\":2.9,\"data1\":0.00032121},{\"data0\":3.0,\"data1\":0.0003223},{\"data0\":3.1,\"data1\":0.00032332},{\"data0\":3.2,\"data1\":0.0003243},{\"data0\":3.3,\"data1\":0.00032529},{\"data0\":3.4,\"data1\":0.00032628},{\"data0\":3.5,\"data1\":0.00032724},{\"data0\":3.6,\"data1\":0.00032816},{\"data0\":3.7,\"data1\":0.00032913},{\"data0\":3.8,\"data1\":0.00033002},{\"data0\":3.9,\"data1\":0.00033092},{\"data0\":4.0,\"data1\":0.00033187},{\"data0\":4.1,\"data1\":0.00033277},{\"data0\":4.2,\"data1\":0.0003337},{\"data0\":4.3,\"data1\":0.00033452},{\"data0\":4.4,\"data1\":0.00033551},{\"data0\":4.5,\"data1\":0.00033637},{\"data0\":4.6,\"data1\":0.00033733},{\"data0\":4.7,\"data1\":0.0003383},{\"data0\":4.8,\"data1\":0.00033921},{\"data0\":4.9,\"data1\":0.00034017},{\"data0\":5.0,\"data1\":0.00034116}],\"24fed552-acdb-40d9-8a17-da37d0036ade\":[{\"data0\":0.0,\"data1\":-3.1e-07},{\"data0\":0.1,\"data1\":0.00022331},{\"data0\":0.2,\"data1\":0.00043143},{\"data0\":0.3,\"data1\":0.00062351},{\"data0\":0.4,\"data1\":0.00079923},{\"data0\":0.5,\"data1\":0.00095739},{\"data0\":0.6,\"data1\":0.00109947},{\"data0\":0.7,\"data1\":0.00122432},{\"data0\":0.8,\"data1\":0.00133209},{\"data0\":0.9,\"data1\":0.00142286},{\"data0\":1.0,\"data1\":0.00149728},{\"data0\":1.1,\"data1\":0.00155593},{\"data0\":1.2,\"data1\":0.00160091},{\"data0\":1.3,\"data1\":0.00163392},{\"data0\":1.4,\"data1\":0.00165776},{\"data0\":1.5,\"data1\":0.00167513},{\"data0\":1.6,\"data1\":0.00168836},{\"data0\":1.7,\"data1\":0.00169905},{\"data0\":1.8,\"data1\":0.00170834},{\"data0\":1.9,\"data1\":0.00171661},{\"data0\":2.0,\"data1\":0.00172412},{\"data0\":2.1,\"data1\":0.00173118},{\"data0\":2.2,\"data1\":0.0017378},{\"data0\":2.3,\"data1\":0.00174404},{\"data0\":2.4,\"data1\":0.00175005},{\"data0\":2.5,\"data1\":0.00175581},{\"data0\":2.6,\"data1\":0.00176121},{\"data0\":2.7,\"data1\":0.00176653},{\"data0\":2.8,\"data1\":0.00177176},{\"data0\":2.9,\"data1\":0.00177661},{\"data0\":3.0,\"data1\":0.00178141},{\"data0\":3.1,\"data1\":0.00178611},{\"data0\":3.2,\"data1\":0.00179067},{\"data0\":3.3,\"data1\":0.00179516},{\"data0\":3.4,\"data1\":0.00179942},{\"data0\":3.5,\"data1\":0.00180366},{\"data0\":3.6,\"data1\":0.00180776},{\"data0\":3.7,\"data1\":0.00181183},{\"data0\":3.8,\"data1\":0.00181584},{\"data0\":3.9,\"data1\":0.00181978},{\"data0\":4.0,\"data1\":0.00182352},{\"data0\":4.1,\"data1\":0.0018274},{\"data0\":4.2,\"data1\":0.00183117},{\"data0\":4.3,\"data1\":0.00183492},{\"data0\":4.4,\"data1\":0.00183864},{\"data0\":4.5,\"data1\":0.00184228},{\"data0\":4.6,\"data1\":0.00184599},{\"data0\":4.7,\"data1\":0.00184974},{\"data0\":4.8,\"data1\":0.00185352},{\"data0\":4.9,\"data1\":0.00185741},{\"data0\":5.0,\"data1\":0.00186132}],\"a9c3e748-558a-43e7-8adc-0bec614b1e10\":[{\"data0\":0.0,\"data1\":-4.3e-07},{\"data0\":0.1,\"data1\":0.00032625},{\"data0\":0.2,\"data1\":0.00064037},{\"data0\":0.3,\"data1\":0.00094127},{\"data0\":0.4,\"data1\":0.00122833},{\"data0\":0.5,\"data1\":0.00149965},{\"data0\":0.6,\"data1\":0.00175787},{\"data0\":0.7,\"data1\":0.00200061},{\"data0\":0.8,\"data1\":0.00222773},{\"data0\":0.9,\"data1\":0.00243889},{\"data0\":1.0,\"data1\":0.00263384},{\"data0\":1.1,\"data1\":0.00281176},{\"data0\":1.2,\"data1\":0.0029739},{\"data0\":1.3,\"data1\":0.00311955},{\"data0\":1.4,\"data1\":0.00324879},{\"data0\":1.5,\"data1\":0.00336194},{\"data0\":1.6,\"data1\":0.00345937},{\"data0\":1.7,\"data1\":0.00354139},{\"data0\":1.8,\"data1\":0.00360981},{\"data0\":1.9,\"data1\":0.00366546},{\"data0\":2.0,\"data1\":0.00370998},{\"data0\":2.1,\"data1\":0.00374517},{\"data0\":2.2,\"data1\":0.00377303},{\"data0\":2.3,\"data1\":0.00379556},{\"data0\":2.4,\"data1\":0.00381429},{\"data0\":2.5,\"data1\":0.00383042},{\"data0\":2.6,\"data1\":0.00384466},{\"data0\":2.7,\"data1\":0.00385759},{\"data0\":2.8,\"data1\":0.00386942},{\"data0\":2.9,\"data1\":0.00388051},{\"data0\":3.0,\"data1\":0.00389099},{\"data0\":3.1,\"data1\":0.00390078},{\"data0\":3.2,\"data1\":0.00391021},{\"data0\":3.3,\"data1\":0.00391916},{\"data0\":3.4,\"data1\":0.00392766},{\"data0\":3.5,\"data1\":0.00393591},{\"data0\":3.6,\"data1\":0.0039439},{\"data0\":3.7,\"data1\":0.0039516},{\"data0\":3.8,\"data1\":0.00395905},{\"data0\":3.9,\"data1\":0.00396631},{\"data0\":4.0,\"data1\":0.00397339},{\"data0\":4.1,\"data1\":0.00398011},{\"data0\":4.2,\"data1\":0.00398674},{\"data0\":4.3,\"data1\":0.00399326},{\"data0\":4.4,\"data1\":0.00399952},{\"data0\":4.5,\"data1\":0.00400568},{\"data0\":4.6,\"data1\":0.0040118},{\"data0\":4.7,\"data1\":0.00401772},{\"data0\":4.8,\"data1\":0.00402372},{\"data0\":4.9,\"data1\":0.00402958},{\"data0\":5.0,\"data1\":0.00403548}],\"55b3df7e-1bbd-48c2-b817-de964f2a37ba\":[{\"data0\":0.0,\"data1\":-5.9e-07},{\"data0\":0.1,\"data1\":0.00040987},{\"data0\":0.2,\"data1\":0.00080976},{\"data0\":0.3,\"data1\":0.00119849},{\"data0\":0.4,\"data1\":0.00157536},{\"data0\":0.5,\"data1\":0.00193796},{\"data0\":0.6,\"data1\":0.00228965},{\"data0\":0.7,\"data1\":0.00262762},{\"data0\":0.8,\"data1\":0.00295151},{\"data0\":0.9,\"data1\":0.00326105},{\"data0\":1.0,\"data1\":0.00355566},{\"data0\":1.1,\"data1\":0.00383392},{\"data0\":1.2,\"data1\":0.00409797},{\"data0\":1.3,\"data1\":0.00434619},{\"data0\":1.4,\"data1\":0.00457859},{\"data0\":1.5,\"data1\":0.00479476},{\"data0\":1.6,\"data1\":0.00499509},{\"data0\":1.7,\"data1\":0.00517817},{\"data0\":1.8,\"data1\":0.00534623},{\"data0\":1.9,\"data1\":0.00549846},{\"data0\":2.0,\"data1\":0.00563501},{\"data0\":2.1,\"data1\":0.00575646},{\"data0\":2.2,\"data1\":0.00586313},{\"data0\":2.3,\"data1\":0.00595543},{\"data0\":2.4,\"data1\":0.00603489},{\"data0\":2.5,\"data1\":0.0061022},{\"data0\":2.6,\"data1\":0.00615865},{\"data0\":2.7,\"data1\":0.00620531},{\"data0\":2.8,\"data1\":0.00624388},{\"data0\":2.9,\"data1\":0.00627574},{\"data0\":3.0,\"data1\":0.00630259},{\"data0\":3.1,\"data1\":0.00632553},{\"data0\":3.2,\"data1\":0.00634555},{\"data0\":3.3,\"data1\":0.0063633},{\"data0\":3.4,\"data1\":0.00637911},{\"data0\":3.5,\"data1\":0.00639382},{\"data0\":3.6,\"data1\":0.00640736},{\"data0\":3.7,\"data1\":0.00642001},{\"data0\":3.8,\"data1\":0.00643185},{\"data0\":3.9,\"data1\":0.0064431},{\"data0\":4.0,\"data1\":0.00645373},{\"data0\":4.1,\"data1\":0.0064638},{\"data0\":4.2,\"data1\":0.00647351},{\"data0\":4.3,\"data1\":0.00648271},{\"data0\":4.4,\"data1\":0.00649165},{\"data0\":4.5,\"data1\":0.00650019},{\"data0\":4.6,\"data1\":0.00650833},{\"data0\":4.7,\"data1\":0.00651626},{\"data0\":4.8,\"data1\":0.00652393},{\"data0\":4.9,\"data1\":0.00653147},{\"data0\":5.0,\"data1\":0.00653863}]},\"extension\":[]}\n",
       "        var id_name = '#vis-9a39d321-4c5b-4102-9e3f-fd029ddb9c89';\n",
       "        Nyaplot.core.parse(model, id_name);\n",
       "\n",
       "        require(['downloadable'], function(downloadable){\n",
       "          var svg = d3.select(id_name).select(\"svg\");\n",
       "\t  if(!svg.empty())\n",
       "\t    svg.call(downloadable().filename('fig'));\n",
       "\t});\n",
       "    };\n",
       "    if(window['Nyaplot']==undefined){\n",
       "        window.addEventListener('load_nyaplot', render, false);\n",
       "\treturn;\n",
       "    } else {\n",
       "       render();\n",
       "    }\n",
       "})();\n",
       "</script>\n"
      ],
      "text/plain": [
       "#<Nyaplot::Frame:0x00000002827628 @properties={:panes=>[#<Nyaplot::Plot:0x000000028790b8 @properties={:diagrams=>[#<Nyaplot::Diagram:0x00000002863c90 @properties={:type=>:scatter, :options=>{:x=>\"data0\", :y=>\"data1\", :color=>#<Nyaplot::Color:0x00000002862ea8 @source=[\"rgb(102,194,165)\", \"rgb(252,141,98)\", \"rgb(141,160,203)\", \"rgb(231,138,195)\", \"rgb(166,216,84)\", \"rgb(255,217,47)\", \"rgb(229,196,148)\", \"rgb(179,179,179)\"]>}, :data=>\"481f91a4-782f-4375-bfec-5134f59474b2\"}, @xrange=[0.0, 5.0], @yrange=[-1.2e-07, 0.00034116]>, #<Nyaplot::Diagram:0x00000002854fb0 @properties={:type=>:scatter, :options=>{:x=>\"data0\", :y=>\"data1\", :color=>#<Nyaplot::Color:0x000000028540d8 @source=[\"rgb(179,226,205)\", \"rgb(253,205,172)\", \"rgb(203,213,232)\", \"rgb(244,202,228)\", \"rgb(230,245,201)\", \"rgb(255,242,174)\", \"rgb(241,226,204)\", \"rgb(204,204,204)\"]>}, :data=>\"24fed552-acdb-40d9-8a17-da37d0036ade\"}, @xrange=[0.0, 5.0], @yrange=[-3.1e-07, 0.00186132]>, #<Nyaplot::Diagram:0x0000000283ebe8 @properties={:type=>:scatter, :options=>{:x=>\"data0\", :y=>\"data1\", :color=>#<Nyaplot::Color:0x0000000283dc70 @source=[\"rgb(102,194,165)\", \"rgb(252,141,98)\", \"rgb(141,160,203)\", \"rgb(231,138,195)\", \"rgb(166,216,84)\", \"rgb(255,217,47)\", \"rgb(229,196,148)\", \"rgb(179,179,179)\"]>}, :data=>\"a9c3e748-558a-43e7-8adc-0bec614b1e10\"}, @xrange=[0.0, 5.0], @yrange=[-4.3e-07, 0.00403548]>, #<Nyaplot::Diagram:0x00000002830430 @properties={:type=>:scatter, :options=>{:x=>\"data0\", :y=>\"data1\", :color=>#<Nyaplot::Color:0x000000028277b8 @source=[\"rgb(27,158,119)\", \"rgb(217,95,2)\", \"rgb(117,112,179)\", \"rgb(231,41,138)\", \"rgb(102,166,30)\", \"rgb(230,171,2)\", \"rgb(166,118,29)\", \"rgb(102,102,102)\"]>}, :data=>\"55b3df7e-1bbd-48c2-b817-de964f2a37ba\"}, @xrange=[0.0, 5.0], @yrange=[-5.9e-07, 0.00653863]>], :options=>{:x_label=>\"Vds\", :y_label=>\"Ids\", :zoom=>true, :width=>700, :xrange=>[0.0, 5.0], :yrange=>[-5.9e-07, 0.00653863]}}>], :data=>{\"481f91a4-782f-4375-bfec-5134f59474b2\"=>#<Nyaplot::DataFrame:0x0000000286f590 @name=\"481f91a4-782f-4375-bfec-5134f59474b2\", @rows=[{:data0=>0.0, :data1=>-1.2e-07}, {:data0=>0.1, :data1=>9.031e-05}, {:data0=>0.2, :data1=>0.00016149}, {:data0=>0.3, :data1=>0.00021389}, {:data0=>0.4, :data1=>0.00024906}, {:data0=>0.5, :data1=>0.0002697}, {:data0=>0.6, :data1=>0.00028065}, {:data0=>0.7, :data1=>0.00028635}, {:data0=>0.8, :data1=>0.00028989}, {:data0=>0.9, :data1=>0.00029262}, {:data0=>1.0, :data1=>0.00029491}, {:data0=>1.1, :data1=>0.00029688}, {:data0=>1.2, :data1=>0.00029884}, {:data0=>1.3, :data1=>0.00030058}, {:data0=>1.4, :data1=>0.0003023}, {:data0=>1.5, :data1=>0.00030385}, {:data0=>1.6, :data1=>0.00030539}, {:data0=>1.7, :data1=>0.00030682}, {:data0=>1.8, :data1=>0.00030824}, {:data0=>1.9, :data1=>0.00030962}, {:data0=>2.0, :data1=>0.00031092}, {:data0=>2.1, :data1=>0.00031227}, {:data0=>2.2, :data1=>0.0003134}, {:data0=>2.3, :data1=>0.00031461}, {:data0=>2.4, :data1=>0.00031585}, {:data0=>2.5, :data1=>0.00031695}, {:data0=>2.6, :data1=>0.00031798}, {:data0=>2.7, :data1=>0.00031918}, {:data0=>2.8, :data1=>0.00032023}, {:data0=>2.9, :data1=>0.00032121}, {:data0=>3.0, :data1=>0.0003223}, {:data0=>3.1, :data1=>0.00032332}, {:data0=>3.2, :data1=>0.0003243}, {:data0=>3.3, :data1=>0.00032529}, {:data0=>3.4, :data1=>0.00032628}, {:data0=>3.5, :data1=>0.00032724}, {:data0=>3.6, :data1=>0.00032816}, {:data0=>3.7, :data1=>0.00032913}, {:data0=>3.8, :data1=>0.00033002}, {:data0=>3.9, :data1=>0.00033092}, {:data0=>4.0, :data1=>0.00033187}, {:data0=>4.1, :data1=>0.00033277}, {:data0=>4.2, :data1=>0.0003337}, {:data0=>4.3, :data1=>0.00033452}, {:data0=>4.4, :data1=>0.00033551}, {:data0=>4.5, :data1=>0.00033637}, {:data0=>4.6, :data1=>0.00033733}, {:data0=>4.7, :data1=>0.0003383}, {:data0=>4.8, :data1=>0.00033921}, {:data0=>4.9, :data1=>0.00034017}, {:data0=>5.0, :data1=>0.00034116}]>, \"24fed552-acdb-40d9-8a17-da37d0036ade\"=>#<Nyaplot::DataFrame:0x00000002860fe0 @name=\"24fed552-acdb-40d9-8a17-da37d0036ade\", @rows=[{:data0=>0.0, :data1=>-3.1e-07}, {:data0=>0.1, :data1=>0.00022331}, {:data0=>0.2, :data1=>0.00043143}, {:data0=>0.3, :data1=>0.00062351}, {:data0=>0.4, :data1=>0.00079923}, {:data0=>0.5, :data1=>0.00095739}, {:data0=>0.6, :data1=>0.00109947}, {:data0=>0.7, :data1=>0.00122432}, {:data0=>0.8, :data1=>0.00133209}, {:data0=>0.9, :data1=>0.00142286}, {:data0=>1.0, :data1=>0.00149728}, {:data0=>1.1, :data1=>0.00155593}, {:data0=>1.2, :data1=>0.00160091}, {:data0=>1.3, :data1=>0.00163392}, {:data0=>1.4, :data1=>0.00165776}, {:data0=>1.5, :data1=>0.00167513}, {:data0=>1.6, :data1=>0.00168836}, {:data0=>1.7, :data1=>0.00169905}, {:data0=>1.8, :data1=>0.00170834}, {:data0=>1.9, :data1=>0.00171661}, {:data0=>2.0, :data1=>0.00172412}, {:data0=>2.1, :data1=>0.00173118}, {:data0=>2.2, :data1=>0.0017378}, {:data0=>2.3, :data1=>0.00174404}, {:data0=>2.4, :data1=>0.00175005}, {:data0=>2.5, :data1=>0.00175581}, {:data0=>2.6, :data1=>0.00176121}, {:data0=>2.7, :data1=>0.00176653}, {:data0=>2.8, :data1=>0.00177176}, {:data0=>2.9, :data1=>0.00177661}, {:data0=>3.0, :data1=>0.00178141}, {:data0=>3.1, :data1=>0.00178611}, {:data0=>3.2, :data1=>0.00179067}, {:data0=>3.3, :data1=>0.00179516}, {:data0=>3.4, :data1=>0.00179942}, {:data0=>3.5, :data1=>0.00180366}, {:data0=>3.6, :data1=>0.00180776}, {:data0=>3.7, :data1=>0.00181183}, {:data0=>3.8, :data1=>0.00181584}, {:data0=>3.9, :data1=>0.00181978}, {:data0=>4.0, :data1=>0.00182352}, {:data0=>4.1, :data1=>0.0018274}, {:data0=>4.2, :data1=>0.00183117}, {:data0=>4.3, :data1=>0.00183492}, {:data0=>4.4, :data1=>0.00183864}, {:data0=>4.5, :data1=>0.00184228}, {:data0=>4.6, :data1=>0.00184599}, {:data0=>4.7, :data1=>0.00184974}, {:data0=>4.8, :data1=>0.00185352}, {:data0=>4.9, :data1=>0.00185741}, {:data0=>5.0, :data1=>0.00186132}]>, \"a9c3e748-558a-43e7-8adc-0bec614b1e10\"=>#<Nyaplot::DataFrame:0x0000000284a538 @name=\"a9c3e748-558a-43e7-8adc-0bec614b1e10\", @rows=[{:data0=>0.0, :data1=>-4.3e-07}, {:data0=>0.1, :data1=>0.00032625}, {:data0=>0.2, :data1=>0.00064037}, {:data0=>0.3, :data1=>0.00094127}, {:data0=>0.4, :data1=>0.00122833}, {:data0=>0.5, :data1=>0.00149965}, {:data0=>0.6, :data1=>0.00175787}, {:data0=>0.7, :data1=>0.00200061}, {:data0=>0.8, :data1=>0.00222773}, {:data0=>0.9, :data1=>0.00243889}, {:data0=>1.0, :data1=>0.00263384}, {:data0=>1.1, :data1=>0.00281176}, {:data0=>1.2, :data1=>0.0029739}, {:data0=>1.3, :data1=>0.00311955}, {:data0=>1.4, :data1=>0.00324879}, {:data0=>1.5, :data1=>0.00336194}, {:data0=>1.6, :data1=>0.00345937}, {:data0=>1.7, :data1=>0.00354139}, {:data0=>1.8, :data1=>0.00360981}, {:data0=>1.9, :data1=>0.00366546}, {:data0=>2.0, :data1=>0.00370998}, {:data0=>2.1, :data1=>0.00374517}, {:data0=>2.2, :data1=>0.00377303}, {:data0=>2.3, :data1=>0.00379556}, {:data0=>2.4, :data1=>0.00381429}, {:data0=>2.5, :data1=>0.00383042}, {:data0=>2.6, :data1=>0.00384466}, {:data0=>2.7, :data1=>0.00385759}, {:data0=>2.8, :data1=>0.00386942}, {:data0=>2.9, :data1=>0.00388051}, {:data0=>3.0, :data1=>0.00389099}, {:data0=>3.1, :data1=>0.00390078}, {:data0=>3.2, :data1=>0.00391021}, {:data0=>3.3, :data1=>0.00391916}, {:data0=>3.4, :data1=>0.00392766}, {:data0=>3.5, :data1=>0.00393591}, {:data0=>3.6, :data1=>0.0039439}, {:data0=>3.7, :data1=>0.0039516}, {:data0=>3.8, :data1=>0.00395905}, {:data0=>3.9, :data1=>0.00396631}, {:data0=>4.0, :data1=>0.00397339}, {:data0=>4.1, :data1=>0.00398011}, {:data0=>4.2, :data1=>0.00398674}, {:data0=>4.3, :data1=>0.00399326}, {:data0=>4.4, :data1=>0.00399952}, {:data0=>4.5, :data1=>0.00400568}, {:data0=>4.6, :data1=>0.0040118}, {:data0=>4.7, :data1=>0.00401772}, {:data0=>4.8, :data1=>0.00402372}, {:data0=>4.9, :data1=>0.00402958}, {:data0=>5.0, :data1=>0.00403548}]>, \"55b3df7e-1bbd-48c2-b817-de964f2a37ba\"=>#<Nyaplot::DataFrame:0x0000000283c7f8 @name=\"55b3df7e-1bbd-48c2-b817-de964f2a37ba\", @rows=[{:data0=>0.0, :data1=>-5.9e-07}, {:data0=>0.1, :data1=>0.00040987}, {:data0=>0.2, :data1=>0.00080976}, {:data0=>0.3, :data1=>0.00119849}, {:data0=>0.4, :data1=>0.00157536}, {:data0=>0.5, :data1=>0.00193796}, {:data0=>0.6, :data1=>0.00228965}, {:data0=>0.7, :data1=>0.00262762}, {:data0=>0.8, :data1=>0.00295151}, {:data0=>0.9, :data1=>0.00326105}, {:data0=>1.0, :data1=>0.00355566}, {:data0=>1.1, :data1=>0.00383392}, {:data0=>1.2, :data1=>0.00409797}, {:data0=>1.3, :data1=>0.00434619}, {:data0=>1.4, :data1=>0.00457859}, {:data0=>1.5, :data1=>0.00479476}, {:data0=>1.6, :data1=>0.00499509}, {:data0=>1.7, :data1=>0.00517817}, {:data0=>1.8, :data1=>0.00534623}, {:data0=>1.9, :data1=>0.00549846}, {:data0=>2.0, :data1=>0.00563501}, {:data0=>2.1, :data1=>0.00575646}, {:data0=>2.2, :data1=>0.00586313}, {:data0=>2.3, :data1=>0.00595543}, {:data0=>2.4, :data1=>0.00603489}, {:data0=>2.5, :data1=>0.0061022}, {:data0=>2.6, :data1=>0.00615865}, {:data0=>2.7, :data1=>0.00620531}, {:data0=>2.8, :data1=>0.00624388}, {:data0=>2.9, :data1=>0.00627574}, {:data0=>3.0, :data1=>0.00630259}, {:data0=>3.1, :data1=>0.00632553}, {:data0=>3.2, :data1=>0.00634555}, {:data0=>3.3, :data1=>0.0063633}, {:data0=>3.4, :data1=>0.00637911}, {:data0=>3.5, :data1=>0.00639382}, {:data0=>3.6, :data1=>0.00640736}, {:data0=>3.7, :data1=>0.00642001}, {:data0=>3.8, :data1=>0.00643185}, {:data0=>3.9, :data1=>0.0064431}, {:data0=>4.0, :data1=>0.00645373}, {:data0=>4.1, :data1=>0.0064638}, {:data0=>4.2, :data1=>0.00647351}, {:data0=>4.3, :data1=>0.00648271}, {:data0=>4.4, :data1=>0.00649165}, {:data0=>4.5, :data1=>0.00650019}, {:data0=>4.6, :data1=>0.00650833}, {:data0=>4.7, :data1=>0.00651626}, {:data0=>4.8, :data1=>0.00652393}, {:data0=>4.9, :data1=>0.00653147}, {:data0=>5.0, :data1=>0.00653863}]>}, :extension=>[]}>"
      ]
     },
     "metadata": {},
     "output_type": "display_data"
    }
   ],
   "source": [
    "plot = Nyaplot::Plot.new\n",
    "x=vds_array\n",
    "1.2.step(5,1){|vgs|\n",
    "  puts \"vgs = #{vgs}\"\n",
    "  y=vds_array.map{|a| data[0.0][vgs][a]}\n",
    "  sc = plot.add(:scatter, x, y)\n",
    "  color = Nyaplot::Colors.qual\n",
    "  sc.color(color)\n",
    "}\n",
    "plot.x_label 'Vds'\n",
    "plot.y_label 'Ids'\n",
    "plot.show\n",
    "plot.export_html 'Ids-Vgs.csv'\n",
    "nil"
   ]
  },
  {
   "cell_type": "code",
   "execution_count": null,
   "metadata": {
    "collapsed": true
   },
   "outputs": [],
   "source": []
  }
 ],
 "metadata": {
  "kernelspec": {
   "display_name": "Ruby 2.3.1",
   "language": "ruby",
   "name": "ruby"
  },
  "language_info": {
   "file_extension": ".rb",
   "mimetype": "application/x-ruby",
   "name": "ruby",
   "version": "2.3.1"
  }
 },
 "nbformat": 4,
 "nbformat_minor": 1
}
